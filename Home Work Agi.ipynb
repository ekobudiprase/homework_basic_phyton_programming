{
 "cells": [
  {
   "cell_type": "markdown",
   "metadata": {},
   "source": [
    "# HOMEWORK DSA DAY 3\n",
    "## Agialdi Dosinanda\n",
    "<br> nomor 2 : 34"
   ]
  },
  {
   "cell_type": "code",
   "execution_count": 88,
   "metadata": {},
   "outputs": [
    {
     "name": "stdout",
     "output_type": "stream",
     "text": [
      "rows and cols of data\n",
      "(9660, 13)\n"
     ]
    },
    {
     "data": {
      "text/html": [
       "<div>\n",
       "<style scoped>\n",
       "    .dataframe tbody tr th:only-of-type {\n",
       "        vertical-align: middle;\n",
       "    }\n",
       "\n",
       "    .dataframe tbody tr th {\n",
       "        vertical-align: top;\n",
       "    }\n",
       "\n",
       "    .dataframe thead th {\n",
       "        text-align: right;\n",
       "    }\n",
       "</style>\n",
       "<table border=\"1\" class=\"dataframe\">\n",
       "  <thead>\n",
       "    <tr style=\"text-align: right;\">\n",
       "      <th></th>\n",
       "      <th>App</th>\n",
       "      <th>Category</th>\n",
       "      <th>Rating</th>\n",
       "      <th>Reviews</th>\n",
       "      <th>Size</th>\n",
       "      <th>Installs</th>\n",
       "      <th>Type</th>\n",
       "      <th>Price</th>\n",
       "      <th>Content Rating</th>\n",
       "      <th>Genres</th>\n",
       "      <th>Last Updated</th>\n",
       "      <th>Current Ver</th>\n",
       "      <th>Android Ver</th>\n",
       "    </tr>\n",
       "  </thead>\n",
       "  <tbody>\n",
       "    <tr>\n",
       "      <th>0</th>\n",
       "      <td>Photo Editor &amp; Candy Camera &amp; Grid &amp; ScrapBook</td>\n",
       "      <td>ART_AND_DESIGN</td>\n",
       "      <td>4.1</td>\n",
       "      <td>159</td>\n",
       "      <td>19M</td>\n",
       "      <td>10000</td>\n",
       "      <td>Free</td>\n",
       "      <td>0</td>\n",
       "      <td>Everyone</td>\n",
       "      <td>Art &amp; Design</td>\n",
       "      <td>January 7, 2018</td>\n",
       "      <td>1.0.0</td>\n",
       "      <td>4.0.3 and up</td>\n",
       "    </tr>\n",
       "    <tr>\n",
       "      <th>1</th>\n",
       "      <td>Coloring book moana</td>\n",
       "      <td>ART_AND_DESIGN</td>\n",
       "      <td>3.9</td>\n",
       "      <td>967</td>\n",
       "      <td>14M</td>\n",
       "      <td>500000</td>\n",
       "      <td>Free</td>\n",
       "      <td>0</td>\n",
       "      <td>Everyone</td>\n",
       "      <td>Art &amp; Design;Pretend Play</td>\n",
       "      <td>January 15, 2018</td>\n",
       "      <td>2.0.0</td>\n",
       "      <td>4.0.3 and up</td>\n",
       "    </tr>\n",
       "    <tr>\n",
       "      <th>2</th>\n",
       "      <td>U Launcher Lite â FREE Live Cool Themes, Hid...</td>\n",
       "      <td>ART_AND_DESIGN</td>\n",
       "      <td>4.7</td>\n",
       "      <td>87510</td>\n",
       "      <td>8.7M</td>\n",
       "      <td>5000000</td>\n",
       "      <td>Free</td>\n",
       "      <td>0</td>\n",
       "      <td>Everyone</td>\n",
       "      <td>Art &amp; Design</td>\n",
       "      <td>August 1, 2018</td>\n",
       "      <td>1.2.4</td>\n",
       "      <td>4.0.3 and up</td>\n",
       "    </tr>\n",
       "    <tr>\n",
       "      <th>3</th>\n",
       "      <td>Sketch - Draw &amp; Paint</td>\n",
       "      <td>ART_AND_DESIGN</td>\n",
       "      <td>4.5</td>\n",
       "      <td>215644</td>\n",
       "      <td>25M</td>\n",
       "      <td>50000000</td>\n",
       "      <td>Free</td>\n",
       "      <td>0</td>\n",
       "      <td>Teen</td>\n",
       "      <td>Art &amp; Design</td>\n",
       "      <td>June 8, 2018</td>\n",
       "      <td>Varies with device</td>\n",
       "      <td>4.2 and up</td>\n",
       "    </tr>\n",
       "    <tr>\n",
       "      <th>4</th>\n",
       "      <td>Pixel Draw - Number Art Coloring Book</td>\n",
       "      <td>ART_AND_DESIGN</td>\n",
       "      <td>4.3</td>\n",
       "      <td>967</td>\n",
       "      <td>2.8M</td>\n",
       "      <td>100000</td>\n",
       "      <td>Free</td>\n",
       "      <td>0</td>\n",
       "      <td>Everyone</td>\n",
       "      <td>Art &amp; Design;Creativity</td>\n",
       "      <td>June 20, 2018</td>\n",
       "      <td>1.1</td>\n",
       "      <td>4.4 and up</td>\n",
       "    </tr>\n",
       "  </tbody>\n",
       "</table>\n",
       "</div>"
      ],
      "text/plain": [
       "                                                 App        Category  Rating  \\\n",
       "0     Photo Editor & Candy Camera & Grid & ScrapBook  ART_AND_DESIGN     4.1   \n",
       "1                                Coloring book moana  ART_AND_DESIGN     3.9   \n",
       "2  U Launcher Lite â FREE Live Cool Themes, Hid...  ART_AND_DESIGN     4.7   \n",
       "3                              Sketch - Draw & Paint  ART_AND_DESIGN     4.5   \n",
       "4              Pixel Draw - Number Art Coloring Book  ART_AND_DESIGN     4.3   \n",
       "\n",
       "  Reviews  Size  Installs  Type Price Content Rating  \\\n",
       "0     159   19M     10000  Free     0       Everyone   \n",
       "1     967   14M    500000  Free     0       Everyone   \n",
       "2   87510  8.7M   5000000  Free     0       Everyone   \n",
       "3  215644   25M  50000000  Free     0           Teen   \n",
       "4     967  2.8M    100000  Free     0       Everyone   \n",
       "\n",
       "                      Genres      Last Updated         Current Ver  \\\n",
       "0               Art & Design   January 7, 2018               1.0.0   \n",
       "1  Art & Design;Pretend Play  January 15, 2018               2.0.0   \n",
       "2               Art & Design    August 1, 2018               1.2.4   \n",
       "3               Art & Design      June 8, 2018  Varies with device   \n",
       "4    Art & Design;Creativity     June 20, 2018                 1.1   \n",
       "\n",
       "    Android Ver  \n",
       "0  4.0.3 and up  \n",
       "1  4.0.3 and up  \n",
       "2  4.0.3 and up  \n",
       "3    4.2 and up  \n",
       "4    4.4 and up  "
      ]
     },
     "execution_count": 88,
     "metadata": {},
     "output_type": "execute_result"
    }
   ],
   "source": [
    "import numpy as np\n",
    "import pandas as pd\n",
    "\n",
    "\n",
    "print('rows and cols of data')\n",
    "shape = qz3.shape\n",
    "print(shape)\n",
    "\n",
    "qz3.head()"
   ]
  },
  {
   "cell_type": "code",
   "execution_count": 35,
   "metadata": {},
   "outputs": [
    {
     "name": "stdout",
     "output_type": "stream",
     "text": [
      "34\n"
     ]
    }
   ],
   "source": [
    "# Uniqe Value Category\n",
    "unique_value = qz3[\"Category\"].nunique() \n",
    "print(unique_value)"
   ]
  },
  {
   "cell_type": "code",
   "execution_count": 38,
   "metadata": {},
   "outputs": [
    {
     "name": "stdout",
     "output_type": "stream",
     "text": [
      "120\n"
     ]
    }
   ],
   "source": [
    "# Uniqe Value Genres\n",
    "unique_value = qz3[\"Genres\"].nunique() \n",
    "print(unique_value)"
   ]
  },
  {
   "cell_type": "code",
   "execution_count": 40,
   "metadata": {},
   "outputs": [
    {
     "name": "stdout",
     "output_type": "stream",
     "text": [
      "9660\n"
     ]
    }
   ],
   "source": [
    "# Uniqe Value APps\n",
    "unique_value = qz3[\"App\"].nunique() \n",
    "print(unique_value)"
   ]
  },
  {
   "cell_type": "code",
   "execution_count": 74,
   "metadata": {
    "scrolled": true
   },
   "outputs": [
    {
     "name": "stdout",
     "output_type": "stream",
     "text": [
      "                                               App      Installs\n",
      "10472      Life Made WI-Fi Touchscreen Photo Frame          Free\n",
      "420    UC Browser - Fast Download Private & Secure  500,000,000+\n",
      "474                    LINE: Free Calls & Messages  500,000,000+\n",
      "3767                  Flipboard: News For Our Time  500,000,000+\n"
     ]
    }
   ],
   "source": [
    "# Top 3 apps by Downloads\n",
    "data1 = qz3[['App','Installs']]\n",
    "sort_by_dl = data1.sort_values('Installs',ascending=False)\n",
    "print(sort_by_dl.head(4))"
   ]
  },
  {
   "cell_type": "code",
   "execution_count": 77,
   "metadata": {},
   "outputs": [
    {
     "name": "stdout",
     "output_type": "stream",
     "text": [
      "      Category                                                App  Installs\n",
      "7947  BUSINESS                      Resume PDF Maker / CV Builder  500,000+\n",
      "7939  BUSINESS  Curriculum vitae App CV Builder Free Resume Maker  500,000+\n",
      "6004  BUSINESS                                Business Dictionary  500,000+\n",
      "          Category                                          App      Installs\n",
      "420  COMMUNICATION  UC Browser - Fast Download Private & Secure  500,000,000+\n",
      "474  COMMUNICATION                  LINE: Free Calls & Messages  500,000,000+\n",
      "431  COMMUNICATION                              Viber Messenger  500,000,000+\n",
      "     Category               App      Installs\n",
      "1842     GAME  Candy Crush Saga  500,000,000+\n",
      "1759     GAME      Temple Run 2  500,000,000+\n",
      "1966     GAME  Candy Crush Saga  500,000,000+\n",
      "    Category                                            App  Installs\n",
      "517   DATING                  Christian Dating For Free App  500,000+\n",
      "516   DATING              Sudy â Meet Elite & Rich Single  500,000+\n",
      "515   DATING  Dating for 50 plus Mature Singles â FINALLY  500,000+\n",
      "Empty DataFrame\n",
      "Columns: [Category, App, Installs]\n",
      "Index: []\n"
     ]
    }
   ],
   "source": [
    "#TOP 3 Apps (Business - Communication - Game - Dating - Music) based on Installs\n",
    "data2 = qz3[['Category', 'App', 'Installs']]\n",
    "sdl2 = data2.sort_values('Installs',ascending=False)\n",
    "cat1 = sdl2['Category'] == \"BUSINESS\"\n",
    "cat2 = sdl2['Category'] == \"COMMUNICATION\"\n",
    "cat3 = sdl2['Category'] == \"GAME\"\n",
    "cat4 = sdl2['Category'] == \"DATING\"\n",
    "cat5 = sdl2['Category'] == \"MUSIC\"\n",
    "print(sdl2[cat1].head(3))\n",
    "print(sdl2[cat2].head(3))\n",
    "print(sdl2[cat3].head(3))\n",
    "print(sdl2[cat4].head(3))\n",
    "print(sdl2[cat5].head(3))"
   ]
  },
  {
   "cell_type": "code",
   "execution_count": 83,
   "metadata": {},
   "outputs": [
    {
     "name": "stdout",
     "output_type": "stream",
     "text": [
      "      Category                    App  Rating\n",
      "5125  BUSINESS  Ag Valley Cooperative     5.0\n",
      "9411  BUSINESS                NEMA ei     5.0\n",
      "7478  BUSINESS     CK Employee Portal     5.0\n",
      "           Category           App  Rating\n",
      "6852  COMMUNICATION            BV     5.0\n",
      "6727  COMMUNICATION     BS-Mobile     5.0\n",
      "9455  COMMUNICATION  EJ messenger     5.0\n",
      "     Category                   App  Rating\n",
      "6700     GAME      Brick Breaker BR     5.0\n",
      "7402     GAME  Trovami se ci riesci     5.0\n",
      "7466     GAME                211:CK     5.0\n",
      "    Category                                         App  Rating\n",
      "654   DATING             Speeding Joyride & Car Meet App     5.0\n",
      "640   DATING                     Online Girls Chat Group     5.0\n",
      "636   DATING  Girls Live Talk - Free Text and Video Chat     5.0\n",
      "Empty DataFrame\n",
      "Columns: [Category, App, Rating]\n",
      "Index: []\n"
     ]
    }
   ],
   "source": [
    "#TOP 3 Apps (Business - Communication - Game - Dating - Music) based on Rating\n",
    "data3 = qz3[['Category', 'App', 'Rating']]\n",
    "sdl3 = data3.sort_values('Rating',ascending=False)\n",
    "rat1 = sdl3['Category'] == \"BUSINESS\"\n",
    "rat2 = sdl3['Category'] == \"COMMUNICATION\"\n",
    "rat3 = sdl3['Category'] == \"GAME\"\n",
    "rat4 = sdl3['Category'] == \"DATING\"\n",
    "rat5 = sdl3['Category'] == \"MUSIC\"\n",
    "print(sdl3[rat1].head(3))\n",
    "print(sdl3[rat2].head(3))\n",
    "print(sdl3[rat3].head(3))\n",
    "print(sdl3[rat4].head(3))\n",
    "print(sdl3[rat5].head(3))"
   ]
  },
  {
   "cell_type": "code",
   "execution_count": 99,
   "metadata": {},
   "outputs": [
    {
     "name": "stdout",
     "output_type": "stream",
     "text": [
      "     Category                              App  Rating  Installs\n",
      "201  BUSINESS           Facebook Pages Manager     4.0  50000000\n",
      "188  BUSINESS                Indeed Job Search     4.3  50000000\n",
      "192  BUSINESS  Docs To Goâ¢ Free Office Suite     4.1  50000000\n",
      "          Category                                          App  Rating  \\\n",
      "347  COMMUNICATION                imo free video calls and chat     4.3   \n",
      "342  COMMUNICATION                              Viber Messenger     4.3   \n",
      "378  COMMUNICATION  UC Browser - Fast Download Private & Secure     4.5   \n",
      "\n",
      "      Installs  \n",
      "347  500000000  \n",
      "342  500000000  \n",
      "378  500000000  \n",
      "     Category               App  Rating   Installs\n",
      "1655     GAME  Candy Crush Saga     4.4  500000000\n",
      "1722     GAME    My Talking Tom     4.5  500000000\n",
      "1661     GAME      Temple Run 2     4.3  500000000\n",
      "    Category                                                App  Rating  \\\n",
      "537   DATING                          ChatVideo Meet new people     4.2   \n",
      "493   DATING  Free Dating App & Flirt Chat - Match with Singles     4.4   \n",
      "487   DATING            Casual Dating & Adult Singles - Joyride     4.5   \n",
      "\n",
      "    Installs  \n",
      "537  5000000  \n",
      "493  5000000  \n",
      "487  5000000  \n",
      "Empty DataFrame\n",
      "Columns: [Category, App, Rating, Installs]\n",
      "Index: []\n"
     ]
    }
   ],
   "source": [
    "#TOP 3 Apps (Business - Communication - Game - Dating - Music) based on Rating & Installs\n",
    "data4 = qz3[['Category', 'App', 'Rating', 'Installs']]\n",
    "sdl4 = data4.sort_values('Rating',ascending=False) \n",
    "sdl5 = sdl4.sort_values('Installs',ascending=False)\n",
    "drat1 = sdl5['Category'] == \"BUSINESS\"  \n",
    "drat2 = sdl5['Category'] == \"COMMUNICATION\" \n",
    "drat3 = sdl5['Category'] == \"GAME\"\n",
    "drat4 = sdl5['Category'] == \"DATING\" \n",
    "drat5 = sdl5['Category'] == \"MUSIC\" \n",
    "print(sdl5[drat1].head(3))\n",
    "print(sdl5[drat2].head(3))\n",
    "print(sdl5[drat3].head(3))\n",
    "print(sdl5[drat4].head(3))\n",
    "print(sdl5[drat5].head(3))"
   ]
  },
  {
   "cell_type": "code",
   "execution_count": 101,
   "metadata": {},
   "outputs": [
    {
     "name": "stdout",
     "output_type": "stream",
     "text": [
      "      Category                                                App  Rating  \\\n",
      "4683  BUSINESS  Vault-Hide SMS,Pics & Videos,App Lock,Cloud ba...     4.5   \n",
      "188   BUSINESS                                  Indeed Job Search     4.3   \n",
      "192   BUSINESS                    Docs To Goâ¢ Free Office Suite     4.1   \n",
      "\n",
      "      Installs  \n",
      "4683  50000000  \n",
      "188   50000000  \n",
      "192   50000000  \n",
      "          Category                                          App  Rating  \\\n",
      "371  COMMUNICATION        Google Duo - High Quality Video Calls     4.6   \n",
      "378  COMMUNICATION  UC Browser - Fast Download Private & Secure     4.5   \n",
      "342  COMMUNICATION                              Viber Messenger     4.3   \n",
      "\n",
      "      Installs  \n",
      "371  500000000  \n",
      "378  500000000  \n",
      "342  500000000  \n",
      "     Category               App  Rating   Installs\n",
      "1722     GAME    My Talking Tom     4.5  500000000\n",
      "1655     GAME  Candy Crush Saga     4.4  500000000\n",
      "1661     GAME      Temple Run 2     4.3  500000000\n",
      "    Category                                                App  Rating  \\\n",
      "487   DATING            Casual Dating & Adult Singles - Joyride     4.5   \n",
      "600   DATING                           iPair-Meet, Chat, Dating     4.5   \n",
      "493   DATING  Free Dating App & Flirt Chat - Match with Singles     4.4   \n",
      "\n",
      "    Installs  \n",
      "487  5000000  \n",
      "600  5000000  \n",
      "493  5000000  \n",
      "Empty DataFrame\n",
      "Columns: [Category, App, Rating, Installs]\n",
      "Index: []\n"
     ]
    }
   ],
   "source": [
    "#TOP 3 Apps (Business - Communication - Game - Dating - Music) based on Rating & Installs\n",
    "data4 = qz3[['Category', 'App', 'Rating', 'Installs']]\n",
    "sdl5 = data4.sort_values(by=['Installs','Rating'], ascending=False)\n",
    "drat1 = sdl5['Category'] == \"BUSINESS\"  \n",
    "drat2 = sdl5['Category'] == \"COMMUNICATION\" \n",
    "drat3 = sdl5['Category'] == \"GAME\"\n",
    "drat4 = sdl5['Category'] == \"DATING\" \n",
    "drat5 = sdl5['Category'] == \"MUSIC\" \n",
    "print(sdl5[drat1].head(3))\n",
    "print(sdl5[drat2].head(3))\n",
    "print(sdl5[drat3].head(3))\n",
    "print(sdl5[drat4].head(3))\n",
    "print(sdl5[drat5].head(3))"
   ]
  },
  {
   "cell_type": "code",
   "execution_count": null,
   "metadata": {},
   "outputs": [],
   "source": []
  }
 ],
 "metadata": {
  "kernelspec": {
   "display_name": "Python 3",
   "language": "python",
   "name": "python3"
  },
  "language_info": {
   "codemirror_mode": {
    "name": "ipython",
    "version": 3
   },
   "file_extension": ".py",
   "mimetype": "text/x-python",
   "name": "python",
   "nbconvert_exporter": "python",
   "pygments_lexer": "ipython3",
   "version": "3.7.0"
  }
 },
 "nbformat": 4,
 "nbformat_minor": 2
}
